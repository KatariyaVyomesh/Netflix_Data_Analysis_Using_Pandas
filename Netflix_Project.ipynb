{
 "cells": [
  {
   "cell_type": "code",
   "execution_count": 1,
   "id": "f1f2ecbf-3f50-4011-bdb0-7d6d3065a136",
   "metadata": {},
   "outputs": [],
   "source": [
    "import pandas as pd"
   ]
  },
  {
   "cell_type": "code",
   "execution_count": 2,
   "id": "45a5d67a-9808-46cc-b8b9-b59d16a3b15d",
   "metadata": {},
   "outputs": [
    {
     "data": {
      "text/html": [
       "<div>\n",
       "<style scoped>\n",
       "    .dataframe tbody tr th:only-of-type {\n",
       "        vertical-align: middle;\n",
       "    }\n",
       "\n",
       "    .dataframe tbody tr th {\n",
       "        vertical-align: top;\n",
       "    }\n",
       "\n",
       "    .dataframe thead th {\n",
       "        text-align: right;\n",
       "    }\n",
       "</style>\n",
       "<table border=\"1\" class=\"dataframe\">\n",
       "  <thead>\n",
       "    <tr style=\"text-align: right;\">\n",
       "      <th></th>\n",
       "      <th>show_id</th>\n",
       "      <th>type</th>\n",
       "      <th>title</th>\n",
       "      <th>director</th>\n",
       "      <th>cast</th>\n",
       "      <th>country</th>\n",
       "      <th>date_added</th>\n",
       "      <th>release_year</th>\n",
       "      <th>rating</th>\n",
       "      <th>duration</th>\n",
       "      <th>genres</th>\n",
       "      <th>description</th>\n",
       "    </tr>\n",
       "  </thead>\n",
       "  <tbody>\n",
       "    <tr>\n",
       "      <th>0</th>\n",
       "      <td>s1</td>\n",
       "      <td>TV Show</td>\n",
       "      <td>3%</td>\n",
       "      <td>NaN</td>\n",
       "      <td>João Miguel, Bianca Comparato, Michel Gomes, R...</td>\n",
       "      <td>Brazil</td>\n",
       "      <td>14-Aug-20</td>\n",
       "      <td>2020</td>\n",
       "      <td>TV-MA</td>\n",
       "      <td>4</td>\n",
       "      <td>International TV Shows, TV Dramas, TV Sci-Fi &amp;...</td>\n",
       "      <td>In a future where the elite inhabit an island ...</td>\n",
       "    </tr>\n",
       "    <tr>\n",
       "      <th>1</th>\n",
       "      <td>s10</td>\n",
       "      <td>Movie</td>\n",
       "      <td>1920</td>\n",
       "      <td>Vikram Bhatt</td>\n",
       "      <td>Rajneesh Duggal, Adah Sharma, Indraneil Sengup...</td>\n",
       "      <td>India</td>\n",
       "      <td>15-Dec-17</td>\n",
       "      <td>2008</td>\n",
       "      <td>TV-MA</td>\n",
       "      <td>143</td>\n",
       "      <td>Horror Movies, International Movies, Thrillers</td>\n",
       "      <td>An architect and his wife move into a castle t...</td>\n",
       "    </tr>\n",
       "    <tr>\n",
       "      <th>2</th>\n",
       "      <td>s100</td>\n",
       "      <td>Movie</td>\n",
       "      <td>3 Heroines</td>\n",
       "      <td>Iman Brotoseno</td>\n",
       "      <td>Reza Rahadian, Bunga Citra Lestari, Tara Basro...</td>\n",
       "      <td>Indonesia</td>\n",
       "      <td>05-Jan-19</td>\n",
       "      <td>2016</td>\n",
       "      <td>TV-PG</td>\n",
       "      <td>124</td>\n",
       "      <td>Dramas, International Movies, Sports Movies</td>\n",
       "      <td>Three Indonesian women break records by becomi...</td>\n",
       "    </tr>\n",
       "    <tr>\n",
       "      <th>3</th>\n",
       "      <td>s1000</td>\n",
       "      <td>Movie</td>\n",
       "      <td>Blue Mountain State: The Rise of Thadland</td>\n",
       "      <td>Lev L. Spiro</td>\n",
       "      <td>Alan Ritchson, Darin Brooks, James Cade, Rob R...</td>\n",
       "      <td>United States</td>\n",
       "      <td>01-Mar-16</td>\n",
       "      <td>2016</td>\n",
       "      <td>R</td>\n",
       "      <td>90</td>\n",
       "      <td>Comedies</td>\n",
       "      <td>New NFL star Thad buys his old teammates' belo...</td>\n",
       "    </tr>\n",
       "    <tr>\n",
       "      <th>4</th>\n",
       "      <td>s1001</td>\n",
       "      <td>TV Show</td>\n",
       "      <td>Blue Planet II</td>\n",
       "      <td>NaN</td>\n",
       "      <td>David Attenborough</td>\n",
       "      <td>United Kingdom</td>\n",
       "      <td>03-Dec-18</td>\n",
       "      <td>2017</td>\n",
       "      <td>TV-G</td>\n",
       "      <td>1</td>\n",
       "      <td>British TV Shows, Docuseries, Science &amp; Nature TV</td>\n",
       "      <td>This sequel to the award-winning nature series...</td>\n",
       "    </tr>\n",
       "  </tbody>\n",
       "</table>\n",
       "</div>"
      ],
      "text/plain": [
       "  show_id     type                                      title        director  \\\n",
       "0      s1  TV Show                                         3%             NaN   \n",
       "1     s10    Movie                                       1920    Vikram Bhatt   \n",
       "2    s100    Movie                                 3 Heroines  Iman Brotoseno   \n",
       "3   s1000    Movie  Blue Mountain State: The Rise of Thadland    Lev L. Spiro   \n",
       "4   s1001  TV Show                             Blue Planet II             NaN   \n",
       "\n",
       "                                                cast         country  \\\n",
       "0  João Miguel, Bianca Comparato, Michel Gomes, R...          Brazil   \n",
       "1  Rajneesh Duggal, Adah Sharma, Indraneil Sengup...           India   \n",
       "2  Reza Rahadian, Bunga Citra Lestari, Tara Basro...       Indonesia   \n",
       "3  Alan Ritchson, Darin Brooks, James Cade, Rob R...   United States   \n",
       "4                                 David Attenborough  United Kingdom   \n",
       "\n",
       "  date_added  release_year rating  duration  \\\n",
       "0  14-Aug-20          2020  TV-MA         4   \n",
       "1  15-Dec-17          2008  TV-MA       143   \n",
       "2  05-Jan-19          2016  TV-PG       124   \n",
       "3  01-Mar-16          2016      R        90   \n",
       "4  03-Dec-18          2017   TV-G         1   \n",
       "\n",
       "                                              genres  \\\n",
       "0  International TV Shows, TV Dramas, TV Sci-Fi &...   \n",
       "1     Horror Movies, International Movies, Thrillers   \n",
       "2        Dramas, International Movies, Sports Movies   \n",
       "3                                           Comedies   \n",
       "4  British TV Shows, Docuseries, Science & Nature TV   \n",
       "\n",
       "                                         description  \n",
       "0  In a future where the elite inhabit an island ...  \n",
       "1  An architect and his wife move into a castle t...  \n",
       "2  Three Indonesian women break records by becomi...  \n",
       "3  New NFL star Thad buys his old teammates' belo...  \n",
       "4  This sequel to the award-winning nature series...  "
      ]
     },
     "execution_count": 2,
     "metadata": {},
     "output_type": "execute_result"
    }
   ],
   "source": [
    "df=pd.read_csv(r\"D:/Excel_csv/Netflix/NetFlix.csv\")\n",
    "df.head()"
   ]
  },
  {
   "cell_type": "code",
   "execution_count": 3,
   "id": "443e9dda-abfa-48f3-bfad-7234c0aaefc2",
   "metadata": {},
   "outputs": [
    {
     "name": "stdout",
     "output_type": "stream",
     "text": [
      "<class 'pandas.core.frame.DataFrame'>\n",
      "RangeIndex: 7787 entries, 0 to 7786\n",
      "Data columns (total 12 columns):\n",
      " #   Column        Non-Null Count  Dtype \n",
      "---  ------        --------------  ----- \n",
      " 0   show_id       7787 non-null   object\n",
      " 1   type          7787 non-null   object\n",
      " 2   title         7787 non-null   object\n",
      " 3   director      5398 non-null   object\n",
      " 4   cast          7069 non-null   object\n",
      " 5   country       7280 non-null   object\n",
      " 6   date_added    7777 non-null   object\n",
      " 7   release_year  7787 non-null   int64 \n",
      " 8   rating        7780 non-null   object\n",
      " 9   duration      7787 non-null   int64 \n",
      " 10  genres        7787 non-null   object\n",
      " 11  description   7787 non-null   object\n",
      "dtypes: int64(2), object(10)\n",
      "memory usage: 730.2+ KB\n"
     ]
    }
   ],
   "source": [
    "df.info()"
   ]
  },
  {
   "cell_type": "code",
   "execution_count": null,
   "id": "2f79acdc-be37-4654-a4e6-cdce6dcebfe5",
   "metadata": {},
   "outputs": [],
   "source": []
  },
  {
   "cell_type": "code",
   "execution_count": 4,
   "id": "e10bcade-03f5-438e-a594-dc9fca142c3c",
   "metadata": {},
   "outputs": [
    {
     "data": {
      "text/plain": [
       "np.int64(0)"
      ]
     },
     "execution_count": 4,
     "metadata": {},
     "output_type": "execute_result"
    }
   ],
   "source": [
    "df.duplicated().sum()"
   ]
  },
  {
   "cell_type": "code",
   "execution_count": 5,
   "id": "9a399856-6dd3-4ece-b91e-8ef883ca51cc",
   "metadata": {},
   "outputs": [
    {
     "data": {
      "text/plain": [
       "show_id            0\n",
       "type               0\n",
       "title              0\n",
       "director        2389\n",
       "cast             718\n",
       "country          507\n",
       "date_added        10\n",
       "release_year       0\n",
       "rating             7\n",
       "duration           0\n",
       "genres             0\n",
       "description        0\n",
       "dtype: int64"
      ]
     },
     "execution_count": 5,
     "metadata": {},
     "output_type": "execute_result"
    }
   ],
   "source": [
    "df.isnull().sum()"
   ]
  },
  {
   "cell_type": "code",
   "execution_count": 6,
   "id": "a850c4a9-75a8-4a80-9bf7-a1ffdaa2cbd3",
   "metadata": {},
   "outputs": [],
   "source": [
    "df.dropna(subset=['date_added'],inplace=True)"
   ]
  },
  {
   "cell_type": "code",
   "execution_count": 7,
   "id": "12a9f60b-aa54-47be-b209-5e9b552810d9",
   "metadata": {},
   "outputs": [],
   "source": [
    "df['cast']=df['cast'].fillna(df['cast'].mode()[0])"
   ]
  },
  {
   "cell_type": "code",
   "execution_count": 8,
   "id": "dae04a1a-dc1a-44f3-ba72-dcf602f907b0",
   "metadata": {},
   "outputs": [
    {
     "name": "stdout",
     "output_type": "stream",
     "text": [
      "<class 'pandas.core.frame.DataFrame'>\n",
      "Index: 7777 entries, 0 to 7786\n",
      "Data columns (total 12 columns):\n",
      " #   Column        Non-Null Count  Dtype \n",
      "---  ------        --------------  ----- \n",
      " 0   show_id       7777 non-null   object\n",
      " 1   type          7777 non-null   object\n",
      " 2   title         7777 non-null   object\n",
      " 3   director      5398 non-null   object\n",
      " 4   cast          7777 non-null   object\n",
      " 5   country       7271 non-null   object\n",
      " 6   date_added    7777 non-null   object\n",
      " 7   release_year  7777 non-null   int64 \n",
      " 8   rating        7770 non-null   object\n",
      " 9   duration      7777 non-null   int64 \n",
      " 10  genres        7777 non-null   object\n",
      " 11  description   7777 non-null   object\n",
      "dtypes: int64(2), object(10)\n",
      "memory usage: 789.9+ KB\n"
     ]
    }
   ],
   "source": [
    "df.info()"
   ]
  },
  {
   "cell_type": "code",
   "execution_count": 9,
   "id": "52faf9a6-f85f-415b-9177-d70c71f0afa0",
   "metadata": {},
   "outputs": [
    {
     "data": {
      "text/plain": [
       "(7777, 12)"
      ]
     },
     "execution_count": 9,
     "metadata": {},
     "output_type": "execute_result"
    }
   ],
   "source": [
    "df.shape"
   ]
  },
  {
   "cell_type": "code",
   "execution_count": null,
   "id": "55bec45c-0667-4df5-8d9b-0bc17a6df661",
   "metadata": {},
   "outputs": [],
   "source": []
  },
  {
   "cell_type": "code",
   "execution_count": 10,
   "id": "a8918a5e-a632-4d30-9287-03b2fa67f57d",
   "metadata": {},
   "outputs": [],
   "source": [
    "# 1. What is the most frequency genre of movie and TV show released on Netflix"
   ]
  },
  {
   "cell_type": "code",
   "execution_count": 11,
   "id": "0dce5be3-1d62-49ad-b38e-c43844e54458",
   "metadata": {},
   "outputs": [],
   "source": [
    "movie_genres=df[df['type']=='Movie'][['genres']]\n",
    "tvshow_genres=df[df['type']=='TV Show'][['genres']]"
   ]
  },
  {
   "cell_type": "code",
   "execution_count": 12,
   "id": "17bea946-c081-48c0-8a30-9bd2984ae493",
   "metadata": {},
   "outputs": [
    {
     "name": "stdout",
     "output_type": "stream",
     "text": [
      "Most frequent genre in movies: genres\n",
      "International Movies    2437\n",
      "Name: count, dtype: int64\n",
      "Most frequent genre in TV Show: genres\n",
      "International TV Shows    1198\n",
      "Name: count, dtype: int64\n"
     ]
    }
   ],
   "source": [
    "# Step 2: Split genres by comma and flatten\n",
    "all_movie_genres = movie_genres['genres'].str.split(',').explode().str.strip()\n",
    "all_tvshow_genres = tvshow_genres['genres'].str.split(',').explode().str.strip()\n",
    "\n",
    "\n",
    "# Step 3: Count frequency of each genre\n",
    "movie_genre_counts = all_movie_genres.value_counts()\n",
    "tvshow_genre_counts = all_tvshow_genres.value_counts()\n",
    "print(\"Most frequent genre in movies:\", movie_genre_counts.head(1))\n",
    "print(\"Most frequent genre in TV Show:\", tvshow_genre_counts.head(1))\n"
   ]
  },
  {
   "cell_type": "code",
   "execution_count": null,
   "id": "cc6b99b9-6116-4a22-9e90-03937bf0213e",
   "metadata": {},
   "outputs": [],
   "source": []
  },
  {
   "cell_type": "code",
   "execution_count": 13,
   "id": "ece54d8e-8002-4b42-a8dc-12073aa9027c",
   "metadata": {},
   "outputs": [
    {
     "name": "stdout",
     "output_type": "stream",
     "text": [
      "For Movie\n",
      " genres\n",
      "International Movies    2437\n",
      "Dramas                  2106\n",
      "Comedies                1471\n",
      "Name: count, dtype: int64\n"
     ]
    }
   ],
   "source": [
    "# 2. top 3 most frequent_genre in movie and TV show\n",
    "\n",
    "print(\"For Movie\\n\",movie_genre_counts.head(3))"
   ]
  },
  {
   "cell_type": "code",
   "execution_count": 14,
   "id": "54207aa3-505c-4eb2-ac61-d2ba8afe2943",
   "metadata": {},
   "outputs": [
    {
     "name": "stdout",
     "output_type": "stream",
     "text": [
      "For TV Show\n",
      " genres\n",
      "International TV Shows    1198\n",
      "TV Dramas                  703\n",
      "TV Comedies                518\n",
      "Name: count, dtype: int64\n"
     ]
    }
   ],
   "source": [
    "print('For TV Show\\n',tvshow_genre_counts.head(3))"
   ]
  },
  {
   "cell_type": "code",
   "execution_count": 15,
   "id": "40014983-f1f3-4d83-8f52-bffea787bc2a",
   "metadata": {},
   "outputs": [],
   "source": [
    "# 3. How many movie/TV Show were added in each year"
   ]
  },
  {
   "cell_type": "code",
   "execution_count": 16,
   "id": "20769347-90ff-4ae3-a886-441b63d692f1",
   "metadata": {},
   "outputs": [
    {
     "name": "stderr",
     "output_type": "stream",
     "text": [
      "C:\\Users\\DELL\\AppData\\Local\\Temp\\ipykernel_13860\\2090431521.py:1: UserWarning: Could not infer format, so each element will be parsed individually, falling back to `dateutil`. To ensure parsing is consistent and as-expected, please specify a format.\n",
      "  df['date_added']=pd.to_datetime(df['date_added'])\n"
     ]
    }
   ],
   "source": [
    "df['date_added']=pd.to_datetime(df['date_added'])"
   ]
  },
  {
   "cell_type": "code",
   "execution_count": 17,
   "id": "f71ba124-3a6d-4880-bf27-f59ce836abd5",
   "metadata": {},
   "outputs": [
    {
     "name": "stdout",
     "output_type": "stream",
     "text": [
      "<class 'pandas.core.frame.DataFrame'>\n",
      "Index: 7777 entries, 0 to 7786\n",
      "Data columns (total 12 columns):\n",
      " #   Column        Non-Null Count  Dtype         \n",
      "---  ------        --------------  -----         \n",
      " 0   show_id       7777 non-null   object        \n",
      " 1   type          7777 non-null   object        \n",
      " 2   title         7777 non-null   object        \n",
      " 3   director      5398 non-null   object        \n",
      " 4   cast          7777 non-null   object        \n",
      " 5   country       7271 non-null   object        \n",
      " 6   date_added    7777 non-null   datetime64[ns]\n",
      " 7   release_year  7777 non-null   int64         \n",
      " 8   rating        7770 non-null   object        \n",
      " 9   duration      7777 non-null   int64         \n",
      " 10  genres        7777 non-null   object        \n",
      " 11  description   7777 non-null   object        \n",
      "dtypes: datetime64[ns](1), int64(2), object(9)\n",
      "memory usage: 789.9+ KB\n"
     ]
    }
   ],
   "source": [
    "df.info()"
   ]
  },
  {
   "cell_type": "code",
   "execution_count": 18,
   "id": "1ee80884-7e17-4c24-9fa0-7c861b2b6b0e",
   "metadata": {},
   "outputs": [],
   "source": [
    "df['year']=df['date_added'].dt.year\n",
    "df['year']=df['year'].astype(int)"
   ]
  },
  {
   "cell_type": "code",
   "execution_count": 19,
   "id": "bf8194a6-5158-4a90-b0e0-d3c76439c95f",
   "metadata": {},
   "outputs": [
    {
     "data": {
      "text/html": [
       "<div>\n",
       "<style scoped>\n",
       "    .dataframe tbody tr th:only-of-type {\n",
       "        vertical-align: middle;\n",
       "    }\n",
       "\n",
       "    .dataframe tbody tr th {\n",
       "        vertical-align: top;\n",
       "    }\n",
       "\n",
       "    .dataframe thead th {\n",
       "        text-align: right;\n",
       "    }\n",
       "</style>\n",
       "<table border=\"1\" class=\"dataframe\">\n",
       "  <thead>\n",
       "    <tr style=\"text-align: right;\">\n",
       "      <th></th>\n",
       "      <th>show_id</th>\n",
       "      <th>type</th>\n",
       "      <th>title</th>\n",
       "      <th>director</th>\n",
       "      <th>cast</th>\n",
       "      <th>country</th>\n",
       "      <th>date_added</th>\n",
       "      <th>release_year</th>\n",
       "      <th>rating</th>\n",
       "      <th>duration</th>\n",
       "      <th>genres</th>\n",
       "      <th>description</th>\n",
       "      <th>year</th>\n",
       "    </tr>\n",
       "  </thead>\n",
       "  <tbody>\n",
       "    <tr>\n",
       "      <th>0</th>\n",
       "      <td>s1</td>\n",
       "      <td>TV Show</td>\n",
       "      <td>3%</td>\n",
       "      <td>NaN</td>\n",
       "      <td>João Miguel, Bianca Comparato, Michel Gomes, R...</td>\n",
       "      <td>Brazil</td>\n",
       "      <td>2020-08-14</td>\n",
       "      <td>2020</td>\n",
       "      <td>TV-MA</td>\n",
       "      <td>4</td>\n",
       "      <td>International TV Shows, TV Dramas, TV Sci-Fi &amp;...</td>\n",
       "      <td>In a future where the elite inhabit an island ...</td>\n",
       "      <td>2020</td>\n",
       "    </tr>\n",
       "    <tr>\n",
       "      <th>1</th>\n",
       "      <td>s10</td>\n",
       "      <td>Movie</td>\n",
       "      <td>1920</td>\n",
       "      <td>Vikram Bhatt</td>\n",
       "      <td>Rajneesh Duggal, Adah Sharma, Indraneil Sengup...</td>\n",
       "      <td>India</td>\n",
       "      <td>2017-12-15</td>\n",
       "      <td>2008</td>\n",
       "      <td>TV-MA</td>\n",
       "      <td>143</td>\n",
       "      <td>Horror Movies, International Movies, Thrillers</td>\n",
       "      <td>An architect and his wife move into a castle t...</td>\n",
       "      <td>2017</td>\n",
       "    </tr>\n",
       "    <tr>\n",
       "      <th>2</th>\n",
       "      <td>s100</td>\n",
       "      <td>Movie</td>\n",
       "      <td>3 Heroines</td>\n",
       "      <td>Iman Brotoseno</td>\n",
       "      <td>Reza Rahadian, Bunga Citra Lestari, Tara Basro...</td>\n",
       "      <td>Indonesia</td>\n",
       "      <td>2019-01-05</td>\n",
       "      <td>2016</td>\n",
       "      <td>TV-PG</td>\n",
       "      <td>124</td>\n",
       "      <td>Dramas, International Movies, Sports Movies</td>\n",
       "      <td>Three Indonesian women break records by becomi...</td>\n",
       "      <td>2019</td>\n",
       "    </tr>\n",
       "  </tbody>\n",
       "</table>\n",
       "</div>"
      ],
      "text/plain": [
       "  show_id     type       title        director  \\\n",
       "0      s1  TV Show          3%             NaN   \n",
       "1     s10    Movie        1920    Vikram Bhatt   \n",
       "2    s100    Movie  3 Heroines  Iman Brotoseno   \n",
       "\n",
       "                                                cast    country date_added  \\\n",
       "0  João Miguel, Bianca Comparato, Michel Gomes, R...     Brazil 2020-08-14   \n",
       "1  Rajneesh Duggal, Adah Sharma, Indraneil Sengup...      India 2017-12-15   \n",
       "2  Reza Rahadian, Bunga Citra Lestari, Tara Basro...  Indonesia 2019-01-05   \n",
       "\n",
       "   release_year rating  duration  \\\n",
       "0          2020  TV-MA         4   \n",
       "1          2008  TV-MA       143   \n",
       "2          2016  TV-PG       124   \n",
       "\n",
       "                                              genres  \\\n",
       "0  International TV Shows, TV Dramas, TV Sci-Fi &...   \n",
       "1     Horror Movies, International Movies, Thrillers   \n",
       "2        Dramas, International Movies, Sports Movies   \n",
       "\n",
       "                                         description  year  \n",
       "0  In a future where the elite inhabit an island ...  2020  \n",
       "1  An architect and his wife move into a castle t...  2017  \n",
       "2  Three Indonesian women break records by becomi...  2019  "
      ]
     },
     "execution_count": 19,
     "metadata": {},
     "output_type": "execute_result"
    }
   ],
   "source": [
    "df.head(3)"
   ]
  },
  {
   "cell_type": "code",
   "execution_count": 20,
   "id": "08b9ed84-fb81-4f11-941b-3aa2572f6d9a",
   "metadata": {},
   "outputs": [],
   "source": [
    "movie=df.groupby(['year','type']).size()"
   ]
  },
  {
   "cell_type": "code",
   "execution_count": 21,
   "id": "be0366a2-2062-4f6c-bf38-5d961d7d9f8f",
   "metadata": {},
   "outputs": [
    {
     "data": {
      "text/plain": [
       "year  type   \n",
       "2008  Movie         1\n",
       "      TV Show       1\n",
       "2009  Movie         2\n",
       "2010  Movie         1\n",
       "2011  Movie        13\n",
       "2012  Movie         3\n",
       "2013  Movie         6\n",
       "      TV Show       5\n",
       "2014  Movie        19\n",
       "      TV Show       6\n",
       "2015  Movie        58\n",
       "      TV Show      30\n",
       "2016  Movie       258\n",
       "      TV Show     185\n",
       "2017  Movie       864\n",
       "      TV Show     361\n",
       "2018  Movie      1255\n",
       "      TV Show     430\n",
       "2019  Movie      1497\n",
       "      TV Show     656\n",
       "2020  Movie      1312\n",
       "      TV Show     697\n",
       "2021  Movie        88\n",
       "      TV Show      29\n",
       "dtype: int64"
      ]
     },
     "execution_count": 21,
     "metadata": {},
     "output_type": "execute_result"
    }
   ],
   "source": [
    "# import matplotlib.pyplot as plt\n",
    "movie"
   ]
  },
  {
   "cell_type": "code",
   "execution_count": null,
   "id": "20864329-0cdc-4c09-b78b-619a7c60753e",
   "metadata": {},
   "outputs": [],
   "source": []
  },
  {
   "cell_type": "code",
   "execution_count": 22,
   "id": "3c6d8cf4-c08b-42af-9490-ac61c8c84257",
   "metadata": {},
   "outputs": [],
   "source": [
    "#4. WHich top 3 actors/actresses appear the most on netflix "
   ]
  },
  {
   "cell_type": "code",
   "execution_count": 23,
   "id": "a007809f-a3c4-4a06-a6eb-e1da71e0f848",
   "metadata": {},
   "outputs": [],
   "source": [
    "all_actors=df['cast']\n",
    "all_actors = all_actors.str.split(', ').explode()\n",
    "\n",
    "# Count appearances\n",
    "actor_counts = all_actors.value_counts()"
   ]
  },
  {
   "cell_type": "code",
   "execution_count": 24,
   "id": "9951510d-886e-4a96-809f-6fa71f17a19a",
   "metadata": {},
   "outputs": [
    {
     "data": {
      "text/plain": [
       "cast\n",
       "David Attenborough    736\n",
       "Anupam Kher            42\n",
       "Shah Rukh Khan         35\n",
       "Name: count, dtype: int64"
      ]
     },
     "execution_count": 24,
     "metadata": {},
     "output_type": "execute_result"
    }
   ],
   "source": [
    "actor_counts.head(3)"
   ]
  },
  {
   "cell_type": "code",
   "execution_count": null,
   "id": "caa79b95-51aa-499e-8c73-f026c6a4cfa2",
   "metadata": {},
   "outputs": [],
   "source": []
  },
  {
   "cell_type": "code",
   "execution_count": 25,
   "id": "cf9a2040-ac4f-47c5-8a56-519df1c224d8",
   "metadata": {},
   "outputs": [],
   "source": [
    "# 5. what is the distribution of sum of movie/TV Show duration by each country(Top 10)"
   ]
  },
  {
   "cell_type": "code",
   "execution_count": 26,
   "id": "2fff5cce-f198-476c-9b8e-f96510b66b5d",
   "metadata": {},
   "outputs": [],
   "source": [
    "country_movie_duration=df[df['type']=='Movie'].groupby('country')['duration'].sum().sort_values(ascending=False)"
   ]
  },
  {
   "cell_type": "code",
   "execution_count": 28,
   "id": "6b43e984-f818-4063-bcb3-70b013e52298",
   "metadata": {},
   "outputs": [
    {
     "data": {
      "text/plain": [
       "country\n",
       "United States     165378\n",
       "India             108557\n",
       "United Kingdom     16285\n",
       "Egypt               9732\n",
       "Canada              9720\n",
       "Spain               8894\n",
       "Philippines         7877\n",
       "Turkey              7856\n",
       "Indonesia           7448\n",
       "Japan               6638\n",
       "Name: duration, dtype: int64"
      ]
     },
     "execution_count": 28,
     "metadata": {},
     "output_type": "execute_result"
    }
   ],
   "source": [
    "country_movie_duration.head(10)"
   ]
  },
  {
   "cell_type": "code",
   "execution_count": 29,
   "id": "fbb2eae4-915f-46f4-9873-3f80604c8f61",
   "metadata": {},
   "outputs": [],
   "source": [
    "country_tvshow_duration=df[df['type']=='TV Show'].groupby('country')['duration'].sum().sort_values(ascending=False)"
   ]
  },
  {
   "cell_type": "code",
   "execution_count": 30,
   "id": "06b9d782-2e39-4321-940a-195bef01e63d",
   "metadata": {},
   "outputs": [
    {
     "data": {
      "text/plain": [
       "country\n",
       "United States            1591\n",
       "United Kingdom            375\n",
       "Japan                     245\n",
       "South Korea               171\n",
       "Canada                    147\n",
       "Australia                  94\n",
       "United States, Canada      90\n",
       "India                      82\n",
       "Spain                      78\n",
       "Taiwan                     69\n",
       "Name: duration, dtype: int64"
      ]
     },
     "execution_count": 30,
     "metadata": {},
     "output_type": "execute_result"
    }
   ],
   "source": [
    "country_tvshow_duration.head(10)"
   ]
  },
  {
   "cell_type": "code",
   "execution_count": null,
   "id": "251bc7ef-8cc9-403c-86ad-7bc99fb637bc",
   "metadata": {},
   "outputs": [],
   "source": []
  },
  {
   "cell_type": "code",
   "execution_count": 31,
   "id": "163d2515-c771-4654-a947-511a97dd6b72",
   "metadata": {},
   "outputs": [],
   "source": [
    "# 6. What is the average release year for movie/TV show"
   ]
  },
  {
   "cell_type": "code",
   "execution_count": 32,
   "id": "3f918d5b-de72-4805-b190-70ab0647b393",
   "metadata": {},
   "outputs": [
    {
     "data": {
      "text/plain": [
       "type\n",
       "Movie      2012.920030\n",
       "TV Show    2016.212083\n",
       "Name: release_year, dtype: float64"
      ]
     },
     "execution_count": 32,
     "metadata": {},
     "output_type": "execute_result"
    }
   ],
   "source": [
    "df.groupby('type')['release_year'].mean()"
   ]
  },
  {
   "cell_type": "code",
   "execution_count": null,
   "id": "8435beb1-362c-4aae-8f9c-4b26042dc30b",
   "metadata": {},
   "outputs": [],
   "source": []
  },
  {
   "cell_type": "code",
   "execution_count": 33,
   "id": "79f2cf9f-1aeb-4480-a94e-d2ce93cda13a",
   "metadata": {},
   "outputs": [],
   "source": [
    "# 7. In which year highest movie and tvshow added in netflix"
   ]
  },
  {
   "cell_type": "code",
   "execution_count": 34,
   "id": "088694ab-b050-4d76-bece-a809f123a0c5",
   "metadata": {},
   "outputs": [
    {
     "data": {
      "text/plain": [
       "year\n",
       "2019    1497\n",
       "2020    1312\n",
       "2018    1255\n",
       "2017     864\n",
       "2016     258\n",
       "2021      88\n",
       "2015      58\n",
       "2014      19\n",
       "2011      13\n",
       "2013       6\n",
       "2012       3\n",
       "2009       2\n",
       "2010       1\n",
       "2008       1\n",
       "Name: count, dtype: int64"
      ]
     },
     "execution_count": 34,
     "metadata": {},
     "output_type": "execute_result"
    }
   ],
   "source": [
    "df[df['type']=='Movie'][['year']].value_counts()"
   ]
  },
  {
   "cell_type": "code",
   "execution_count": 35,
   "id": "bf655d4c-05ad-4c6e-a4b9-99571df4a47e",
   "metadata": {},
   "outputs": [
    {
     "data": {
      "text/plain": [
       "year\n",
       "2020    697\n",
       "2019    656\n",
       "2018    430\n",
       "2017    361\n",
       "2016    185\n",
       "2015     30\n",
       "2021     29\n",
       "2014      6\n",
       "2013      5\n",
       "2008      1\n",
       "Name: count, dtype: int64"
      ]
     },
     "execution_count": 35,
     "metadata": {},
     "output_type": "execute_result"
    }
   ],
   "source": [
    "df[df['type']=='TV Show'][['year']].value_counts()"
   ]
  },
  {
   "cell_type": "code",
   "execution_count": null,
   "id": "8a831a01-0f9a-4993-a624-822dbb3702b8",
   "metadata": {},
   "outputs": [],
   "source": []
  },
  {
   "cell_type": "code",
   "execution_count": 65,
   "id": "426fdd37-18c0-4f6b-9a73-da33a4932b83",
   "metadata": {},
   "outputs": [],
   "source": [
    "# 8. what is the max rating in genres in movie/TV show"
   ]
  },
  {
   "cell_type": "code",
   "execution_count": 43,
   "id": "62d9d8b2-1da9-4f92-97c0-0130e3ae9d93",
   "metadata": {},
   "outputs": [
    {
     "data": {
      "text/plain": [
       "rating\n",
       "TV-MA       2861\n",
       "TV-14       1928\n",
       "TV-PG        804\n",
       "R            665\n",
       "PG-13        386\n",
       "TV-Y         279\n",
       "TV-Y7        270\n",
       "PG           247\n",
       "TV-G         194\n",
       "NR            83\n",
       "G             39\n",
       "TV-Y7-FV       6\n",
       "UR             5\n",
       "NC-17          3\n",
       "Name: count, dtype: int64"
      ]
     },
     "execution_count": 43,
     "metadata": {},
     "output_type": "execute_result"
    }
   ],
   "source": [
    "df['rating'].value_counts()"
   ]
  },
  {
   "cell_type": "code",
   "execution_count": 64,
   "id": "b2e60659-489c-4eda-af32-0930fb5b6716",
   "metadata": {},
   "outputs": [
    {
     "data": {
      "text/plain": [
       "np.int64(7777)"
      ]
     },
     "execution_count": 64,
     "metadata": {},
     "output_type": "execute_result"
    }
   ],
   "source": [
    "df['genres'].count()"
   ]
  },
  {
   "cell_type": "code",
   "execution_count": 42,
   "id": "2c18736c-0df9-41f9-84e5-42038487d622",
   "metadata": {},
   "outputs": [
    {
     "data": {
      "text/plain": [
       "array(['TV-MA', 'TV-PG', 'R', 'TV-G', 'PG-13', 'TV-14', 'TV-Y', 'PG',\n",
       "       'TV-Y7', 'NR', 'G', 'TV-Y7-FV', nan, 'UR', 'NC-17'], dtype=object)"
      ]
     },
     "execution_count": 42,
     "metadata": {},
     "output_type": "execute_result"
    }
   ],
   "source": [
    "df['rating'].unique()"
   ]
  },
  {
   "cell_type": "code",
   "execution_count": 67,
   "id": "f168c6cd-008d-42cc-a04e-33ef4922ec45",
   "metadata": {},
   "outputs": [],
   "source": [
    "movie_genres_max_rating=df[df['type']=='Movie'][['genres','rating']].value_counts()\n",
    "tvshow_genres_max_rating=df[df['type']=='TV Show'][['genres','rating']].value_counts()"
   ]
  },
  {
   "cell_type": "code",
   "execution_count": 69,
   "id": "eb4b67cc-df4c-44f9-82e6-62285e097bb4",
   "metadata": {},
   "outputs": [
    {
     "name": "stdout",
     "output_type": "stream",
     "text": [
      "genres           rating\n",
      "Stand-Up Comedy  TV-MA     275\n",
      "Name: count, dtype: int64\n"
     ]
    }
   ],
   "source": [
    "print(movie_genres_max_rating.head(1))"
   ]
  },
  {
   "cell_type": "code",
   "execution_count": 70,
   "id": "b88bc1d5-b6b3-4ec5-9117-c1c8fc9452db",
   "metadata": {},
   "outputs": [
    {
     "name": "stdout",
     "output_type": "stream",
     "text": [
      "genres    rating\n",
      "Kids' TV  TV-Y      109\n",
      "Name: count, dtype: int64\n"
     ]
    }
   ],
   "source": [
    "print(tvshow_genres_max_rating.head(1))"
   ]
  },
  {
   "cell_type": "code",
   "execution_count": null,
   "id": "263662a7-af9c-4044-aa40-adf42e2cf0af",
   "metadata": {},
   "outputs": [],
   "source": []
  },
  {
   "cell_type": "code",
   "execution_count": 66,
   "id": "7fc0787b-e820-4110-9bc4-3d3931933087",
   "metadata": {},
   "outputs": [],
   "source": [
    "# 9. Which genres has max Rating in TV Show"
   ]
  },
  {
   "cell_type": "code",
   "execution_count": null,
   "id": "7d31da2b-9043-4301-8cdf-f2a9f3528220",
   "metadata": {},
   "outputs": [],
   "source": [
    "df[df['type']=='TV Show'][['gener']]"
   ]
  }
 ],
 "metadata": {
  "kernelspec": {
   "display_name": "Python 3 (ipykernel)",
   "language": "python",
   "name": "python3"
  },
  "language_info": {
   "codemirror_mode": {
    "name": "ipython",
    "version": 3
   },
   "file_extension": ".py",
   "mimetype": "text/x-python",
   "name": "python",
   "nbconvert_exporter": "python",
   "pygments_lexer": "ipython3",
   "version": "3.13.2"
  }
 },
 "nbformat": 4,
 "nbformat_minor": 5
}
